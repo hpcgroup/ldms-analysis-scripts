{
 "cells": [
  {
   "cell_type": "code",
   "execution_count": 1,
   "id": "f4b6bd3a-22d4-4a16-bcff-461438ac57cd",
   "metadata": {},
   "outputs": [],
   "source": [
    "import matplotlib.pyplot as plt\n",
    "import pandas as pd\n",
    "import numpy as np"
   ]
  },
  {
   "cell_type": "code",
   "execution_count": 2,
   "id": "b77ce3e9-5a61-4fcc-b4ad-93c39390a6c4",
   "metadata": {},
   "outputs": [],
   "source": [
    "info_job_level_dfs = {}\n",
    "burstiness_gpu_level_dfs = {}\n",
    "temporal_gpu_level_dfs = {}\n",
    "info_job_level_dfs[\"gpu_utilization\"] = pd.read_csv(\"job_level_gpu_utilization.csv\")\n",
    "gputil_burstiness = pd.read_csv(\"burstiness_gpu_level_gpu_utilization.csv\")\n",
    "temporal_gpu_level_dfs[\"gpu_utilization\"] = pd.read_csv(\"temporal_gpu_level_gpu_utilization.csv\")"
   ]
  },
  {
   "cell_type": "code",
   "execution_count": 3,
   "id": "40ee2e08-a392-4f2f-81f6-f89c89ba7487",
   "metadata": {},
   "outputs": [],
   "source": [
    "gputil_all = info_job_level_dfs[\"gpu_utilization\"]\n",
    "\n",
    "gputil_30 = gputil_all[gputil_all['mean_utilization'] <= 30]\n",
    "gputil_30_70 = gputil_all[(gputil_all['mean_utilization'] > 30) & (gputil_all['mean_utilization'] < 70)]\n",
    "gputil_70 = gputil_all[(gputil_all['mean_utilization'] >= 70) & (gputil_all['mean_utilization'] <= 100)]  "
   ]
  },
  {
   "cell_type": "code",
   "execution_count": 4,
   "id": "66a7344b-34e8-4075-9f3b-03abb22cccf1",
   "metadata": {},
   "outputs": [],
   "source": [
    "gputil_temporal_grouped = temporal_gpu_level_dfs[\"gpu_utilization\"].groupby(\"jobid\").agg({\"temporal_imbalance\" : 'max'}).reset_index()\n",
    "gputil_temporal_30 = pd.merge(gputil_30, gputil_temporal_grouped[['jobid', 'temporal_imbalance']], on='jobid', how='left')\n",
    "gputil_temporal_30_70 = pd.merge(gputil_30_70, gputil_temporal_grouped[['jobid', 'temporal_imbalance']], on='jobid', how='left')\n",
    "gputil_temporal_70 = pd.merge(gputil_70, gputil_temporal_grouped[['jobid', 'temporal_imbalance']], on='jobid', how='left')"
   ]
  },
  {
   "cell_type": "code",
   "execution_count": 5,
   "id": "3f853ab6-ed14-49c1-b5e8-24b74c97e62a",
   "metadata": {},
   "outputs": [],
   "source": [
    "gputil_burstiness_grouped = gputil_burstiness.groupby(\"jobid\").agg({'burstiness_score' : 'mean'}).reset_index()"
   ]
  },
  {
   "cell_type": "code",
   "execution_count": 6,
   "id": "23a12fed-3a76-449a-835b-36dbf5f00bdb",
   "metadata": {},
   "outputs": [],
   "source": [
    "gputil_temporal_burstiness = pd.merge(gputil_all, gputil_burstiness_grouped, on=\"jobid\", how=\"left\")\n",
    "gputil_temporal_burstiness = pd.merge(gputil_temporal_burstiness, gputil_temporal_grouped, on=\"jobid\", how=\"left\")\n",
    "gputil_temporal_burstiness = gputil_temporal_burstiness.dropna()"
   ]
  },
  {
   "cell_type": "code",
   "execution_count": 7,
   "id": "01c9e799-a5ea-4c05-bee3-e51c0d9480d4",
   "metadata": {},
   "outputs": [],
   "source": [
    "lowt_lowb = gputil_temporal_burstiness[(gputil_temporal_burstiness[\"temporal_imbalance\"] <= 0.5) & (gputil_temporal_burstiness[\"burstiness_score\"] <= 0)]\n",
    "lowt_highb = gputil_temporal_burstiness[(gputil_temporal_burstiness[\"temporal_imbalance\"] <= 0.5) & (gputil_temporal_burstiness[\"burstiness_score\"] > 0)]\n",
    "hight_lowb = gputil_temporal_burstiness[(gputil_temporal_burstiness[\"temporal_imbalance\"] > 0.5) & (gputil_temporal_burstiness[\"burstiness_score\"] <= 0)]\n",
    "hight_highb = gputil_temporal_burstiness[(gputil_temporal_burstiness[\"temporal_imbalance\"] > 0.5) & (gputil_temporal_burstiness[\"burstiness_score\"] > 0)]"
   ]
  },
  {
   "cell_type": "code",
   "execution_count": 8,
   "id": "19e5a3c0-6800-457e-b91b-c3c1bfc970a1",
   "metadata": {},
   "outputs": [],
   "source": [
    "def calculate_burstiness_temporal_statistics(df):\n",
    "    df_30 = df[df[\"mean_utilization\"] <= 30]\n",
    "    df_30_70 = df[(df[\"mean_utilization\"] > 30) & (df[\"mean_utilization\"] < 70)]\n",
    "    df_70 = df[df[\"mean_utilization\"] >= 70]\n",
    "\n",
    "    total_job_count = df[\"jobid\"].nunique()\n",
    "    total_gpu_hours = df[\"gpu_hours\"].sum()\n",
    "    low_mean_percentage = df_30[\"jobid\"].nunique()/total_job_count * 100\n",
    "    medium_mean_percentage = df_30_70[\"jobid\"].nunique()/total_job_count * 100\n",
    "    high_mean_percentage = df_70[\"jobid\"].nunique()/total_job_count * 100\n",
    "\n",
    "    return pd.DataFrame({\n",
    "        \"Statistic\": [\"Total Job Count\", \"Total GPU Hours\", \"Low Mean Utilization (%)\", \"Medium Mean Utilization (%)\", \"High Mean Utilization (%)\"],\n",
    "        \"Value\": [total_job_count, total_gpu_hours, low_mean_percentage, medium_mean_percentage, high_mean_percentage]\n",
    "    })"
   ]
  },
  {
   "cell_type": "code",
   "execution_count": 9,
   "id": "35f192d7-b884-4322-9b33-ed6fbcb739de",
   "metadata": {},
   "outputs": [
    {
     "data": {
      "text/html": [
       "<div>\n",
       "<style scoped>\n",
       "    .dataframe tbody tr th:only-of-type {\n",
       "        vertical-align: middle;\n",
       "    }\n",
       "\n",
       "    .dataframe tbody tr th {\n",
       "        vertical-align: top;\n",
       "    }\n",
       "\n",
       "    .dataframe thead th {\n",
       "        text-align: right;\n",
       "    }\n",
       "</style>\n",
       "<table border=\"1\" class=\"dataframe\">\n",
       "  <thead>\n",
       "    <tr style=\"text-align: right;\">\n",
       "      <th></th>\n",
       "      <th>Statistic</th>\n",
       "      <th>Value</th>\n",
       "    </tr>\n",
       "  </thead>\n",
       "  <tbody>\n",
       "    <tr>\n",
       "      <th>0</th>\n",
       "      <td>Total Job Count</td>\n",
       "      <td>104730.00</td>\n",
       "    </tr>\n",
       "    <tr>\n",
       "      <th>1</th>\n",
       "      <td>Total GPU Hours</td>\n",
       "      <td>1462583.76</td>\n",
       "    </tr>\n",
       "    <tr>\n",
       "      <th>2</th>\n",
       "      <td>Low Mean Utilization (%)</td>\n",
       "      <td>32.34</td>\n",
       "    </tr>\n",
       "    <tr>\n",
       "      <th>3</th>\n",
       "      <td>Medium Mean Utilization (%)</td>\n",
       "      <td>42.20</td>\n",
       "    </tr>\n",
       "    <tr>\n",
       "      <th>4</th>\n",
       "      <td>High Mean Utilization (%)</td>\n",
       "      <td>25.47</td>\n",
       "    </tr>\n",
       "  </tbody>\n",
       "</table>\n",
       "</div>"
      ],
      "text/plain": [
       "                     Statistic      Value\n",
       "0              Total Job Count  104730.00\n",
       "1              Total GPU Hours 1462583.76\n",
       "2     Low Mean Utilization (%)      32.34\n",
       "3  Medium Mean Utilization (%)      42.20\n",
       "4    High Mean Utilization (%)      25.47"
      ]
     },
     "execution_count": 9,
     "metadata": {},
     "output_type": "execute_result"
    }
   ],
   "source": [
    "pd.set_option('display.float_format', '{:.2f}'.format)\n",
    "\n",
    "lowt_lowb_stats_df = calculate_burstiness_temporal_statistics(lowt_lowb)\n",
    "lowt_lowb_stats_df"
   ]
  },
  {
   "cell_type": "code",
   "execution_count": 10,
   "id": "8e46b456-91a8-43c8-8b54-e46ea210566f",
   "metadata": {},
   "outputs": [
    {
     "data": {
      "text/html": [
       "<div>\n",
       "<style scoped>\n",
       "    .dataframe tbody tr th:only-of-type {\n",
       "        vertical-align: middle;\n",
       "    }\n",
       "\n",
       "    .dataframe tbody tr th {\n",
       "        vertical-align: top;\n",
       "    }\n",
       "\n",
       "    .dataframe thead th {\n",
       "        text-align: right;\n",
       "    }\n",
       "</style>\n",
       "<table border=\"1\" class=\"dataframe\">\n",
       "  <thead>\n",
       "    <tr style=\"text-align: right;\">\n",
       "      <th></th>\n",
       "      <th>Statistic</th>\n",
       "      <th>Value</th>\n",
       "    </tr>\n",
       "  </thead>\n",
       "  <tbody>\n",
       "    <tr>\n",
       "      <th>0</th>\n",
       "      <td>Total Job Count</td>\n",
       "      <td>55639.00</td>\n",
       "    </tr>\n",
       "    <tr>\n",
       "      <th>1</th>\n",
       "      <td>Total GPU Hours</td>\n",
       "      <td>2865362.35</td>\n",
       "    </tr>\n",
       "    <tr>\n",
       "      <th>2</th>\n",
       "      <td>Low Mean Utilization (%)</td>\n",
       "      <td>15.95</td>\n",
       "    </tr>\n",
       "    <tr>\n",
       "      <th>3</th>\n",
       "      <td>Medium Mean Utilization (%)</td>\n",
       "      <td>41.47</td>\n",
       "    </tr>\n",
       "    <tr>\n",
       "      <th>4</th>\n",
       "      <td>High Mean Utilization (%)</td>\n",
       "      <td>42.59</td>\n",
       "    </tr>\n",
       "  </tbody>\n",
       "</table>\n",
       "</div>"
      ],
      "text/plain": [
       "                     Statistic      Value\n",
       "0              Total Job Count   55639.00\n",
       "1              Total GPU Hours 2865362.35\n",
       "2     Low Mean Utilization (%)      15.95\n",
       "3  Medium Mean Utilization (%)      41.47\n",
       "4    High Mean Utilization (%)      42.59"
      ]
     },
     "execution_count": 10,
     "metadata": {},
     "output_type": "execute_result"
    }
   ],
   "source": [
    "pd.set_option('display.float_format', '{:.2f}'.format)\n",
    "\n",
    "lowt_highb_stats_df = calculate_burstiness_temporal_statistics(lowt_highb)\n",
    "lowt_highb_stats_df"
   ]
  },
  {
   "cell_type": "code",
   "execution_count": 11,
   "id": "23478c7d-ad82-4258-b3c6-e28405b45302",
   "metadata": {},
   "outputs": [
    {
     "data": {
      "text/html": [
       "<div>\n",
       "<style scoped>\n",
       "    .dataframe tbody tr th:only-of-type {\n",
       "        vertical-align: middle;\n",
       "    }\n",
       "\n",
       "    .dataframe tbody tr th {\n",
       "        vertical-align: top;\n",
       "    }\n",
       "\n",
       "    .dataframe thead th {\n",
       "        text-align: right;\n",
       "    }\n",
       "</style>\n",
       "<table border=\"1\" class=\"dataframe\">\n",
       "  <thead>\n",
       "    <tr style=\"text-align: right;\">\n",
       "      <th></th>\n",
       "      <th>Statistic</th>\n",
       "      <th>Value</th>\n",
       "    </tr>\n",
       "  </thead>\n",
       "  <tbody>\n",
       "    <tr>\n",
       "      <th>0</th>\n",
       "      <td>Total Job Count</td>\n",
       "      <td>145971.00</td>\n",
       "    </tr>\n",
       "    <tr>\n",
       "      <th>1</th>\n",
       "      <td>Total GPU Hours</td>\n",
       "      <td>2657522.60</td>\n",
       "    </tr>\n",
       "    <tr>\n",
       "      <th>2</th>\n",
       "      <td>Low Mean Utilization (%)</td>\n",
       "      <td>54.15</td>\n",
       "    </tr>\n",
       "    <tr>\n",
       "      <th>3</th>\n",
       "      <td>Medium Mean Utilization (%)</td>\n",
       "      <td>45.28</td>\n",
       "    </tr>\n",
       "    <tr>\n",
       "      <th>4</th>\n",
       "      <td>High Mean Utilization (%)</td>\n",
       "      <td>0.56</td>\n",
       "    </tr>\n",
       "  </tbody>\n",
       "</table>\n",
       "</div>"
      ],
      "text/plain": [
       "                     Statistic      Value\n",
       "0              Total Job Count  145971.00\n",
       "1              Total GPU Hours 2657522.60\n",
       "2     Low Mean Utilization (%)      54.15\n",
       "3  Medium Mean Utilization (%)      45.28\n",
       "4    High Mean Utilization (%)       0.56"
      ]
     },
     "execution_count": 11,
     "metadata": {},
     "output_type": "execute_result"
    }
   ],
   "source": [
    "pd.set_option('display.float_format', '{:.2f}'.format)\n",
    "\n",
    "hight_lowb_stats_df = calculate_burstiness_temporal_statistics(hight_lowb)\n",
    "hight_lowb_stats_df"
   ]
  },
  {
   "cell_type": "code",
   "execution_count": 12,
   "id": "aa9d02a9-9d94-41d5-9491-be2ccb6f9455",
   "metadata": {},
   "outputs": [
    {
     "data": {
      "text/html": [
       "<div>\n",
       "<style scoped>\n",
       "    .dataframe tbody tr th:only-of-type {\n",
       "        vertical-align: middle;\n",
       "    }\n",
       "\n",
       "    .dataframe tbody tr th {\n",
       "        vertical-align: top;\n",
       "    }\n",
       "\n",
       "    .dataframe thead th {\n",
       "        text-align: right;\n",
       "    }\n",
       "</style>\n",
       "<table border=\"1\" class=\"dataframe\">\n",
       "  <thead>\n",
       "    <tr style=\"text-align: right;\">\n",
       "      <th></th>\n",
       "      <th>Statistic</th>\n",
       "      <th>Value</th>\n",
       "    </tr>\n",
       "  </thead>\n",
       "  <tbody>\n",
       "    <tr>\n",
       "      <th>0</th>\n",
       "      <td>Total Job Count</td>\n",
       "      <td>38603.00</td>\n",
       "    </tr>\n",
       "    <tr>\n",
       "      <th>1</th>\n",
       "      <td>Total GPU Hours</td>\n",
       "      <td>3534739.83</td>\n",
       "    </tr>\n",
       "    <tr>\n",
       "      <th>2</th>\n",
       "      <td>Low Mean Utilization (%)</td>\n",
       "      <td>74.55</td>\n",
       "    </tr>\n",
       "    <tr>\n",
       "      <th>3</th>\n",
       "      <td>Medium Mean Utilization (%)</td>\n",
       "      <td>24.15</td>\n",
       "    </tr>\n",
       "    <tr>\n",
       "      <th>4</th>\n",
       "      <td>High Mean Utilization (%)</td>\n",
       "      <td>1.30</td>\n",
       "    </tr>\n",
       "  </tbody>\n",
       "</table>\n",
       "</div>"
      ],
      "text/plain": [
       "                     Statistic      Value\n",
       "0              Total Job Count   38603.00\n",
       "1              Total GPU Hours 3534739.83\n",
       "2     Low Mean Utilization (%)      74.55\n",
       "3  Medium Mean Utilization (%)      24.15\n",
       "4    High Mean Utilization (%)       1.30"
      ]
     },
     "execution_count": 12,
     "metadata": {},
     "output_type": "execute_result"
    }
   ],
   "source": [
    "pd.set_option('display.float_format', '{:.2f}'.format)\n",
    "\n",
    "hight_highb_stats_df = calculate_burstiness_temporal_statistics(hight_highb)\n",
    "hight_highb_stats_df"
   ]
  },
  {
   "cell_type": "code",
   "execution_count": null,
   "id": "ca4208fd-a82e-43fb-832f-94ee828832f7",
   "metadata": {},
   "outputs": [],
   "source": []
  }
 ],
 "metadata": {
  "kernelspec": {
   "display_name": "MyEnv",
   "language": "python",
   "name": "myenv"
  },
  "language_info": {
   "codemirror_mode": {
    "name": "ipython",
    "version": 3
   },
   "file_extension": ".py",
   "mimetype": "text/x-python",
   "name": "python",
   "nbconvert_exporter": "python",
   "pygments_lexer": "ipython3",
   "version": "3.10.9"
  }
 },
 "nbformat": 4,
 "nbformat_minor": 5
}
