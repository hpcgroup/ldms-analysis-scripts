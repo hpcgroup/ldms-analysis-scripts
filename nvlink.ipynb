{
 "cells": [
  {
   "cell_type": "code",
   "execution_count": 1,
   "id": "7eeeb5e5-ff1b-4375-ade9-a613c3c096ec",
   "metadata": {
    "tags": []
   },
   "outputs": [],
   "source": [
    "import pandas as pd\n",
    "import sys\n",
    "import glob\n",
    "import numpy as np\n",
    "import datetime\n",
    "\n",
    "import pyarrow as pa\n",
    "import pyarrow.parquet as pq\n",
    "import pyarrow.compute as PC\n",
    "\n",
    "import seaborn as sns\n",
    "import matplotlib.pyplot as plt\n",
    "import matplotlib.dates as mdates\n",
    "from matplotlib.patches import Rectangle"
   ]
  },
  {
   "cell_type": "code",
   "execution_count": 2,
   "id": "acd2769f-cbc8-4b9a-ab0f-bf594d8ba01a",
   "metadata": {
    "tags": []
   },
   "outputs": [],
   "source": [
    "csv_filepath = \"/pscratch/sd/o/ocankur/data/resource_usage_paper\""
   ]
  },
  {
   "cell_type": "code",
   "execution_count": 3,
   "id": "2509d5e5-6a1a-4fc6-ad36-6d9fae406c00",
   "metadata": {
    "tags": []
   },
   "outputs": [],
   "source": [
    "def get_duration(dataframe, seconds=10):\n",
    "    # remove jobs that take less than 10 secs.\n",
    "    dataframe[\"start_time\"] = pd.to_datetime(dataframe[\"start\"], unit='s', utc=True)\n",
    "    dataframe[\"end_time\"] = pd.to_datetime(dataframe[\"end\"], unit='s', utc=True)\n",
    "    dataframe[\"duration\"] = dataframe[\"end_time\"] - dataframe[\"start_time\"]\n",
    "    dataframe = dataframe[dataframe[\"duration\"] > datetime.timedelta(0,seconds)]\n",
    "    return dataframe"
   ]
  },
  {
   "cell_type": "code",
   "execution_count": 4,
   "id": "9357f561-a36a-4b6f-a8e5-7db9fdba1068",
   "metadata": {
    "tags": []
   },
   "outputs": [],
   "source": [
    "def preprocess_data(ldms_dataframe, sacct_dataframe, metric, percentage=True):\n",
    "    \"\"\"\n",
    "    Remove jobs that take less than 10 seconds.\n",
    "    Filter out completed jobs.\n",
    "    Filter out 'nstaff' and 'nstaff_g'\n",
    "    \"\"\"\n",
    "    \n",
    "    print(\"Number of LDMS data points before preprocessing: \", len(ldms_dataframe.index))\n",
    "    \n",
    "    if percentage:\n",
    "        if metric == \"mem_copy_utilization\" or metric == \"gpu_utilization\":\n",
    "            ldms_dataframe = ldms_dataframe[ldms_dataframe[metric] <= 100].copy()\n",
    "        else:\n",
    "            ldms_dataframe = ldms_dataframe[ldms_dataframe[metric] <= 1].copy()\n",
    "            ldms_dataframe.loc[:, metric] = ldms_dataframe[metric] * 100\n",
    "    \n",
    "    sacct_dataframe = get_duration(sacct_dataframe, 10)\n",
    "    \n",
    "    sacct_dataframe = sacct_dataframe[sacct_dataframe[\"Account\"] != \"nstaff_g\"]\n",
    "    sacct_dataframe = sacct_dataframe[sacct_dataframe[\"Account\"] != \"nstaff\"]\n",
    "    \n",
    "    sacct_dataframe = sacct_dataframe[sacct_dataframe[\"state\"] == \"COMPLETED\"]\n",
    "    \n",
    "    sacct_dataframe.rename(columns={'jobidraw': 'jobid'}, inplace=True)\n",
    "    merged_ldms = ldms_dataframe.merge(sacct_dataframe, on=[\"ProducerName\", \"jobid\", \"step\"])\n",
    "    \n",
    "    print(\"Number of LDMS data points after preprocessing: \", len(merged_ldms.index))\n",
    "    \n",
    "    return merged_ldms"
   ]
  },
  {
   "cell_type": "code",
   "execution_count": 5,
   "id": "276b880d-fd01-4732-af55-36f06de7fd55",
   "metadata": {
    "tags": []
   },
   "outputs": [
    {
     "name": "stdout",
     "output_type": "stream",
     "text": [
      "Number of LDMS data points before preprocessing:  116807425\n",
      "Number of LDMS data points after preprocessing:  52270459\n"
     ]
    }
   ],
   "source": [
    "df_nvlink = pd.read_parquet(csv_filepath + \"/\" + \"dcgm.nvlink_bandwidth_total.1692169200.1692428399.8.16_ldms.pq\")\n",
    "df_sacct_nvlink = pd.read_parquet(csv_filepath + \"/\" + \"dcgm.nvlink_bandwidth_total.1692169200.1692428399.8.16_saact.pq\")\n",
    "merged_ldms_nvlink = preprocess_data(df_nvlink, df_sacct_nvlink, metric=\"nvlink_bandwidth_total\", percentage=False)"
   ]
  },
  {
   "cell_type": "code",
   "execution_count": 6,
   "id": "16c6764f-7cbb-4cf8-9d17-2f82dca40dd5",
   "metadata": {
    "tags": []
   },
   "outputs": [],
   "source": [
    "merged_ldms_nvlink = merged_ldms_nvlink[merged_ldms_nvlink[\"Account\"].str.contains(\"_g\")]"
   ]
  },
  {
   "cell_type": "markdown",
   "id": "f93d5e00-bd1b-4a64-a35f-53a814a74192",
   "metadata": {
    "jp-MarkdownHeadingCollapsed": true,
    "tags": []
   },
   "source": [
    "#### Number of jobs that use FP16"
   ]
  },
  {
   "cell_type": "code",
   "execution_count": 7,
   "id": "82e9bd83-bcbf-4b0b-afeb-eaf7209a99dc",
   "metadata": {
    "tags": []
   },
   "outputs": [
    {
     "name": "stdout",
     "output_type": "stream",
     "text": [
      "Number of jobs that use NVLINK: 6744\n",
      "Total number of jobs:  jobid    15525\n",
      "dtype: int64\n"
     ]
    }
   ],
   "source": [
    "jobs_without_zero_nvlink = merged_ldms_nvlink.groupby('jobid').filter(lambda x: x['nvlink_bandwidth_total'].sum() != 0)\n",
    "num_nvlink_jobs = jobs_without_zero_nvlink['jobid'].nunique()\n",
    "print(f\"Number of jobs that use NVLINK: {num_nvlink_jobs}\")\n",
    "print(\"Total number of jobs: \", merged_ldms_nvlink[[\"jobid\"]].nunique())"
   ]
  },
  {
   "cell_type": "markdown",
   "id": "7da5aa5b-59f8-42a6-9dc0-ea331e557ca2",
   "metadata": {
    "jp-MarkdownHeadingCollapsed": true,
    "tags": []
   },
   "source": [
    "#### Node hours of jobs that use FP16"
   ]
  },
  {
   "cell_type": "code",
   "execution_count": 8,
   "id": "c6cf1a9c-d487-49ea-93be-2b47c78f13e1",
   "metadata": {
    "tags": []
   },
   "outputs": [
    {
     "name": "stdout",
     "output_type": "stream",
     "text": [
      "Total node hours of jobs that use NVLINK: 20684.328055555554\n"
     ]
    }
   ],
   "source": [
    "unique_jobs_without_zero_nvlink = jobs_without_zero_nvlink.drop_duplicates(subset='jobid').copy()\n",
    "unique_jobs_without_zero_nvlink['duration_hours'] = unique_jobs_without_zero_nvlink['duration'].dt.total_seconds() / 3600.0\n",
    "unique_jobs_without_zero_nvlink['node_hours'] = unique_jobs_without_zero_nvlink['nnodes'] * unique_jobs_without_zero_nvlink['duration_hours']\n",
    "\n",
    "total_node_hours_nvlink = unique_jobs_without_zero_nvlink['node_hours'].sum()\n",
    "print(f\"Total node hours of jobs that use NVLINK: {total_node_hours_nvlink}\")"
   ]
  },
  {
   "cell_type": "markdown",
   "id": "400dbde7-fa72-4a78-9c4a-2fc0e4620038",
   "metadata": {
    "jp-MarkdownHeadingCollapsed": true,
    "tags": []
   },
   "source": [
    "#### CDF and PDF"
   ]
  },
  {
   "cell_type": "code",
   "execution_count": 23,
   "id": "1e3d2b48-b677-43dc-a18a-d5e0027a588d",
   "metadata": {
    "tags": []
   },
   "outputs": [],
   "source": [
    "# TODO"
   ]
  },
  {
   "cell_type": "markdown",
   "id": "cfaae3f1-a627-4e58-a4c8-64848461865d",
   "metadata": {
    "jp-MarkdownHeadingCollapsed": true,
    "tags": []
   },
   "source": [
    "#### Summary of statistics (Find better ways to do this)"
   ]
  },
  {
   "cell_type": "code",
   "execution_count": 15,
   "id": "7af3594b-7e03-4f15-844e-eee2d7438606",
   "metadata": {
    "tags": []
   },
   "outputs": [
    {
     "data": {
      "text/plain": [
       "51310"
      ]
     },
     "metadata": {},
     "output_type": "display_data"
    },
    {
     "data": {
      "text/plain": [
       "41782"
      ]
     },
     "metadata": {},
     "output_type": "display_data"
    },
    {
     "data": {
      "text/plain": [
       "69834"
      ]
     },
     "metadata": {},
     "output_type": "display_data"
    },
    {
     "data": {
      "text/plain": [
       "28292"
      ]
     },
     "metadata": {},
     "output_type": "display_data"
    },
    {
     "data": {
      "text/plain": [
       "96260"
      ]
     },
     "metadata": {},
     "output_type": "display_data"
    },
    {
     "data": {
      "image/png": "[encoded data removed]",
      "text/plain": [
       "<Figure size 1400x700 with 5 Axes>"
      ]
     },
     "metadata": {},
     "output_type": "display_data"
    }
   ],
   "source": [
    "summary_stats = merged_ldms_nvlink.groupby('jobid')['nvlink_bandwidth_total'].describe(percentiles=[.25, .5, .75]).reset_index()\n",
    "\n",
    "plt.figure(figsize=(14, 7))\n",
    "\n",
    "max_50 = summary_stats['50%'].max()\n",
    "max_50 = int(max_50)\n",
    "display(max_50)\n",
    "bins = range(0, 100000, 5000) \n",
    "plt.subplot(2, 3, 1)\n",
    "plt.hist(summary_stats['50%'], bins=bins, edgecolor='black')\n",
    "plt.yscale('log') \n",
    "plt.title('Median NVLINK Bandwidth Total')\n",
    "\n",
    "plt.subplot(2, 3, 2)\n",
    "max_25 = summary_stats['25%'].max()\n",
    "max_25 = int(max_25)\n",
    "display(max_25)\n",
    "bins = range(0, 100000, 5000) \n",
    "plt.hist(summary_stats['25%'], bins=bins, edgecolor='black')\n",
    "plt.yscale('log') \n",
    "plt.title('25th Percentile NVLINK Bandwidth Total')\n",
    "\n",
    "plt.subplot(2, 3, 3)\n",
    "max_75 = summary_stats['75%'].max()\n",
    "max_75 = int(max_75)\n",
    "display(max_75)\n",
    "bins = range(0, 100000, 5000) \n",
    "plt.hist(summary_stats['75%'], bins=bins, edgecolor='black')\n",
    "plt.yscale('log') \n",
    "plt.title('75th Percentile NVLINK Bandwidth Total')\n",
    "\n",
    "plt.subplot(2, 3, 4)\n",
    "max_min = summary_stats['min'].max()\n",
    "max_min = int(max_min)\n",
    "display(max_min)\n",
    "bins = range(0, 100000, 5000) \n",
    "plt.hist(summary_stats['min'], bins=bins, edgecolor='black')\n",
    "plt.yscale('log') \n",
    "plt.title('Minimum NVLINK Bandwidth Total')\n",
    "\n",
    "plt.subplot(2, 3, 5)\n",
    "max_max = summary_stats['max'].max()\n",
    "max_max = int(max_max)\n",
    "display(max_max)\n",
    "bins = range(0, 100000, 5000) \n",
    "plt.hist(summary_stats['max'], bins=bins, edgecolor='black')\n",
    "plt.yscale('log') \n",
    "plt.title('Maximum NVLINK Bandwidth Total')\n",
    "\n",
    "plt.tight_layout()\n",
    "plt.show()"
   ]
  },
  {
   "cell_type": "code",
   "execution_count": 11,
   "id": "d4196114-4b73-434c-b8e4-1a31a573a377",
   "metadata": {
    "tags": []
   },
   "outputs": [
    {
     "data": {
      "text/html": [
       "<div>\n",
       "<style scoped>\n",
       "    .dataframe tbody tr th:only-of-type {\n",
       "        vertical-align: middle;\n",
       "    }\n",
       "\n",
       "    .dataframe tbody tr th {\n",
       "        vertical-align: top;\n",
       "    }\n",
       "\n",
       "    .dataframe thead th {\n",
       "        text-align: right;\n",
       "    }\n",
       "</style>\n",
       "<table border=\"1\" class=\"dataframe\">\n",
       "  <thead>\n",
       "    <tr style=\"text-align: right;\">\n",
       "      <th></th>\n",
       "      <th>jobid</th>\n",
       "      <th>count</th>\n",
       "      <th>mean</th>\n",
       "      <th>std</th>\n",
       "      <th>min</th>\n",
       "      <th>25%</th>\n",
       "      <th>50%</th>\n",
       "      <th>75%</th>\n",
       "      <th>max</th>\n",
       "    </tr>\n",
       "  </thead>\n",
       "  <tbody>\n",
       "    <tr>\n",
       "      <th>0</th>\n",
       "      <td>3366460</td>\n",
       "      <td>154.0</td>\n",
       "      <td>0.000000</td>\n",
       "      <td>0.000000</td>\n",
       "      <td>0.0</td>\n",
       "      <td>0.0</td>\n",
       "      <td>0.0</td>\n",
       "      <td>0.0</td>\n",
       "      <td>0.0</td>\n",
       "    </tr>\n",
       "    <tr>\n",
       "      <th>1</th>\n",
       "      <td>3368245</td>\n",
       "      <td>1.0</td>\n",
       "      <td>0.000000</td>\n",
       "      <td>NaN</td>\n",
       "      <td>0.0</td>\n",
       "      <td>0.0</td>\n",
       "      <td>0.0</td>\n",
       "      <td>0.0</td>\n",
       "      <td>0.0</td>\n",
       "    </tr>\n",
       "    <tr>\n",
       "      <th>2</th>\n",
       "      <td>5360505</td>\n",
       "      <td>8598.0</td>\n",
       "      <td>0.000000</td>\n",
       "      <td>0.000000</td>\n",
       "      <td>0.0</td>\n",
       "      <td>0.0</td>\n",
       "      <td>0.0</td>\n",
       "      <td>0.0</td>\n",
       "      <td>0.0</td>\n",
       "    </tr>\n",
       "    <tr>\n",
       "      <th>3</th>\n",
       "      <td>5811681</td>\n",
       "      <td>1.0</td>\n",
       "      <td>0.000000</td>\n",
       "      <td>NaN</td>\n",
       "      <td>0.0</td>\n",
       "      <td>0.0</td>\n",
       "      <td>0.0</td>\n",
       "      <td>0.0</td>\n",
       "      <td>0.0</td>\n",
       "    </tr>\n",
       "    <tr>\n",
       "      <th>4</th>\n",
       "      <td>6917159</td>\n",
       "      <td>103515.0</td>\n",
       "      <td>0.000000</td>\n",
       "      <td>0.000000</td>\n",
       "      <td>0.0</td>\n",
       "      <td>0.0</td>\n",
       "      <td>0.0</td>\n",
       "      <td>0.0</td>\n",
       "      <td>0.0</td>\n",
       "    </tr>\n",
       "    <tr>\n",
       "      <th>...</th>\n",
       "      <td>...</td>\n",
       "      <td>...</td>\n",
       "      <td>...</td>\n",
       "      <td>...</td>\n",
       "      <td>...</td>\n",
       "      <td>...</td>\n",
       "      <td>...</td>\n",
       "      <td>...</td>\n",
       "      <td>...</td>\n",
       "    </tr>\n",
       "    <tr>\n",
       "      <th>15520</th>\n",
       "      <td>14068349</td>\n",
       "      <td>116.0</td>\n",
       "      <td>568.508621</td>\n",
       "      <td>386.584408</td>\n",
       "      <td>0.0</td>\n",
       "      <td>0.0</td>\n",
       "      <td>763.0</td>\n",
       "      <td>772.0</td>\n",
       "      <td>1664.0</td>\n",
       "    </tr>\n",
       "    <tr>\n",
       "      <th>15521</th>\n",
       "      <td>14068350</td>\n",
       "      <td>1004.0</td>\n",
       "      <td>0.000000</td>\n",
       "      <td>0.000000</td>\n",
       "      <td>0.0</td>\n",
       "      <td>0.0</td>\n",
       "      <td>0.0</td>\n",
       "      <td>0.0</td>\n",
       "      <td>0.0</td>\n",
       "    </tr>\n",
       "    <tr>\n",
       "      <th>15522</th>\n",
       "      <td>14068352</td>\n",
       "      <td>112.0</td>\n",
       "      <td>444.062500</td>\n",
       "      <td>409.945905</td>\n",
       "      <td>0.0</td>\n",
       "      <td>0.0</td>\n",
       "      <td>733.0</td>\n",
       "      <td>749.0</td>\n",
       "      <td>1509.0</td>\n",
       "    </tr>\n",
       "    <tr>\n",
       "      <th>15523</th>\n",
       "      <td>14068358</td>\n",
       "      <td>108.0</td>\n",
       "      <td>485.537037</td>\n",
       "      <td>378.331962</td>\n",
       "      <td>0.0</td>\n",
       "      <td>0.0</td>\n",
       "      <td>689.0</td>\n",
       "      <td>698.0</td>\n",
       "      <td>1510.0</td>\n",
       "    </tr>\n",
       "    <tr>\n",
       "      <th>15524</th>\n",
       "      <td>14068359</td>\n",
       "      <td>8.0</td>\n",
       "      <td>0.000000</td>\n",
       "      <td>0.000000</td>\n",
       "      <td>0.0</td>\n",
       "      <td>0.0</td>\n",
       "      <td>0.0</td>\n",
       "      <td>0.0</td>\n",
       "      <td>0.0</td>\n",
       "    </tr>\n",
       "  </tbody>\n",
       "</table>\n",
       "<p>15525 rows × 9 columns</p>\n",
       "</div>"
      ],
      "text/plain": [
       "          jobid     count        mean         std  min  25%    50%    75%  \\\n",
       "0       3366460     154.0    0.000000    0.000000  0.0  0.0    0.0    0.0   \n",
       "1       3368245       1.0    0.000000         NaN  0.0  0.0    0.0    0.0   \n",
       "2       5360505    8598.0    0.000000    0.000000  0.0  0.0    0.0    0.0   \n",
       "3       5811681       1.0    0.000000         NaN  0.0  0.0    0.0    0.0   \n",
       "4       6917159  103515.0    0.000000    0.000000  0.0  0.0    0.0    0.0   \n",
       "...         ...       ...         ...         ...  ...  ...    ...    ...   \n",
       "15520  14068349     116.0  568.508621  386.584408  0.0  0.0  763.0  772.0   \n",
       "15521  14068350    1004.0    0.000000    0.000000  0.0  0.0    0.0    0.0   \n",
       "15522  14068352     112.0  444.062500  409.945905  0.0  0.0  733.0  749.0   \n",
       "15523  14068358     108.0  485.537037  378.331962  0.0  0.0  689.0  698.0   \n",
       "15524  14068359       8.0    0.000000    0.000000  0.0  0.0    0.0    0.0   \n",
       "\n",
       "          max  \n",
       "0         0.0  \n",
       "1         0.0  \n",
       "2         0.0  \n",
       "3         0.0  \n",
       "4         0.0  \n",
       "...       ...  \n",
       "15520  1664.0  \n",
       "15521     0.0  \n",
       "15522  1509.0  \n",
       "15523  1510.0  \n",
       "15524     0.0  \n",
       "\n",
       "[15525 rows x 9 columns]"
      ]
     },
     "execution_count": 11,
     "metadata": {},
     "output_type": "execute_result"
    }
   ],
   "source": [
    "summary_stats"
   ]
  }
 ],
 "metadata": {
  "kernelspec": {
   "display_name": "MyEnv",
   "language": "python",
   "name": "myenv"
  },
  "language_info": {
   "codemirror_mode": {
    "name": "ipython",
    "version": 3
   },
   "file_extension": ".py",
   "mimetype": "text/x-python",
   "name": "python",
   "nbconvert_exporter": "python",
   "pygments_lexer": "ipython3",
   "version": "3.10.9"
  }
 },
 "nbformat": 4,
 "nbformat_minor": 5
}
