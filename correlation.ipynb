{
 "cells": [
  {
   "cell_type": "code",
   "execution_count": 1,
   "id": "a1430a90-6b81-40e2-b73e-a17bbe542a29",
   "metadata": {
    "tags": []
   },
   "outputs": [],
   "source": [
    "import pandas as pd\n",
    "import sys\n",
    "import glob\n",
    "import numpy as np\n",
    "import datetime\n",
    "\n",
    "import pyarrow as pa\n",
    "import pyarrow.parquet as pq\n",
    "import pyarrow.compute as PC\n",
    "\n",
    "import seaborn as sns\n",
    "import matplotlib.pyplot as plt\n",
    "import matplotlib.dates as mdates\n",
    "from matplotlib.patches import Rectangle"
   ]
  },
  {
   "cell_type": "code",
   "execution_count": 2,
   "id": "e59732c2-c758-4533-9de8-60bfea6d9e3c",
   "metadata": {
    "tags": []
   },
   "outputs": [],
   "source": [
    "csv_filepath = \"/pscratch/sd/o/ocankur/data/resource_usage_paper\""
   ]
  },
  {
   "cell_type": "code",
   "execution_count": 3,
   "id": "ba30ed29-0b92-4854-af08-f74cbdfe7159",
   "metadata": {
    "tags": []
   },
   "outputs": [],
   "source": [
    "def get_duration(dataframe, seconds=10):\n",
    "    # remove jobs that take less than 10 secs.\n",
    "    dataframe[\"start_time\"] = pd.to_datetime(dataframe[\"start\"], unit='s', utc=True)\n",
    "    dataframe[\"end_time\"] = pd.to_datetime(dataframe[\"end\"], unit='s', utc=True)\n",
    "    dataframe[\"duration\"] = dataframe[\"end_time\"] - dataframe[\"start_time\"]\n",
    "    dataframe = dataframe[dataframe[\"duration\"] > datetime.timedelta(0,seconds)]\n",
    "    return dataframe"
   ]
  },
  {
   "cell_type": "code",
   "execution_count": 4,
   "id": "4ed0686d-f170-40a6-9faa-081ead89acce",
   "metadata": {
    "tags": []
   },
   "outputs": [],
   "source": [
    "def preprocess_data(ldms_dataframe, sacct_dataframe, metric, percentage=True):\n",
    "    \"\"\"\n",
    "    Remove jobs that take less than 10 seconds.\n",
    "    Filter out completed jobs.\n",
    "    Filter out 'nstaff' and 'nstaff_g'\n",
    "    \"\"\"\n",
    "    \n",
    "    print(\"Number of LDMS data points before preprocessing: \", len(ldms_dataframe.index))\n",
    "    \n",
    "    if percentage:\n",
    "        if metric == \"mem_copy_utilization\" or metric == \"gpu_utilization\":\n",
    "            ldms_dataframe = ldms_dataframe[ldms_dataframe[metric] <= 100].copy()\n",
    "        else:\n",
    "            ldms_dataframe = ldms_dataframe[ldms_dataframe[metric] <= 1].copy()\n",
    "            ldms_dataframe.loc[:, metric] = ldms_dataframe[metric] * 100\n",
    "    \n",
    "    sacct_dataframe = get_duration(sacct_dataframe, 10)\n",
    "    \n",
    "    sacct_dataframe = sacct_dataframe[sacct_dataframe[\"Account\"] != \"nstaff_g\"]\n",
    "    sacct_dataframe = sacct_dataframe[sacct_dataframe[\"Account\"] != \"nstaff\"]\n",
    "    \n",
    "    sacct_dataframe = sacct_dataframe[sacct_dataframe[\"state\"] == \"COMPLETED\"]\n",
    "    \n",
    "    sacct_dataframe.rename(columns={'jobidraw': 'jobid'}, inplace=True)\n",
    "    merged_ldms = ldms_dataframe.merge(sacct_dataframe, on=[\"ProducerName\", \"jobid\", \"step\"])\n",
    "    \n",
    "    print(\"Number of LDMS data points after preprocessing: \", len(merged_ldms.index))\n",
    "    \n",
    "    return merged_ldms"
   ]
  },
  {
   "cell_type": "code",
   "execution_count": 5,
   "id": "5f31beef-dc36-4fe9-9220-928568c4b676",
   "metadata": {
    "tags": []
   },
   "outputs": [
    {
     "name": "stdout",
     "output_type": "stream",
     "text": [
      "Number of LDMS data points before preprocessing:  116803958\n",
      "Number of LDMS data points after preprocessing:  52268361\n"
     ]
    }
   ],
   "source": [
    "df_gputil = pd.read_parquet(csv_filepath + \"/\" + \"dcgm.gpu_utilization.1692169200.1692428399.8.16_ldms.pq\")\n",
    "df_sacct_gputil = pd.read_parquet(csv_filepath + \"/\" + \"dcgm.gpu_utilization.1692169200.1692428399.8.16_saact.pq\")\n",
    "df_gputil = preprocess_data(df_gputil, df_sacct_gputil, metric=\"gpu_utilization\", percentage=True)\n",
    "\n",
    "df_gputil = df_gputil.iloc[:len(df_gputil) // 100]\n",
    "df_gputil = df_gputil[['#Time', 'jobid', 'ProducerName', 'gpu_id', 'step', 'gpu_utilization']]"
   ]
  },
  {
   "cell_type": "code",
   "execution_count": 6,
   "id": "4c0108d8-384b-49f0-9805-3501875eeb2f",
   "metadata": {
    "tags": []
   },
   "outputs": [
    {
     "name": "stdout",
     "output_type": "stream",
     "text": [
      "Number of LDMS data points before preprocessing:  116807383\n",
      "Number of LDMS data points after preprocessing:  52269956\n"
     ]
    }
   ],
   "source": [
    "df_tensor = pd.read_parquet(csv_filepath + \"/\" + \"dcgm.tensor_active.1692169200.1692428399.8.16_ldms.pq\")\n",
    "df_sacct_tensor = pd.read_parquet(csv_filepath + \"/\" + \"dcgm.tensor_active.1692169200.1692428399.8.16_saact.pq\")\n",
    "df_tensor = preprocess_data(df_tensor, df_sacct_tensor, metric=\"tensor_active\", percentage=True)\n",
    "\n",
    "df_tensor = df_tensor.iloc[:len(df_tensor) // 100]\n",
    "df_tensor = df_tensor[['#Time', 'jobid', 'ProducerName', 'gpu_id', 'step', 'tensor_active']]"
   ]
  },
  {
   "cell_type": "code",
   "execution_count": 5,
   "id": "0b8a7d70-b9a1-49a4-b959-9d3c2d7d9d7f",
   "metadata": {
    "tags": []
   },
   "outputs": [
    {
     "name": "stdout",
     "output_type": "stream",
     "text": [
      "Number of LDMS data points before preprocessing:  116806253\n",
      "Number of LDMS data points after preprocessing:  52270259\n"
     ]
    }
   ],
   "source": [
    "df_sm_active = pd.read_parquet(csv_filepath + \"/\" + \"dcgm.sm_active.1692169200.1692428399.8.16_ldms.pq\")\n",
    "df_sacct_sm_active = pd.read_parquet(csv_filepath + \"/\" + \"dcgm.sm_active.1692169200.1692428399.8.16_saact.pq\")\n",
    "df_sm_active = preprocess_data(df_sm_active, df_sacct_sm_active, metric=\"sm_active\", percentage=True)\n",
    "\n",
    "df_sm_active = df_sm_active.iloc[:len(df_sm_active) // 20]\n",
    "df_sm_active = df_sm_active[['#Time', 'jobid', 'ProducerName', 'gpu_id', 'step', 'sm_active']]"
   ]
  },
  {
   "cell_type": "code",
   "execution_count": 6,
   "id": "841cf456-cbb4-40e9-a543-13bed2504717",
   "metadata": {
    "tags": []
   },
   "outputs": [
    {
     "name": "stdout",
     "output_type": "stream",
     "text": [
      "Number of LDMS data points before preprocessing:  116806476\n",
      "Number of LDMS data points after preprocessing:  52275495\n"
     ]
    }
   ],
   "source": [
    "df_memcpy_utilization = pd.read_parquet(csv_filepath + \"/\" + \"dcgm.mem_copy_utilization.1692169200.1692428399.8.16_ldms.pq\")\n",
    "df_sacct_memcpy_utilization = pd.read_parquet(csv_filepath + \"/\" + \"dcgm.mem_copy_utilization.1692169200.1692428399.8.16_saact.pq\")\n",
    "df_memcpy_utilization = preprocess_data(df_memcpy_utilization, df_sacct_memcpy_utilization, metric=\"mem_copy_utilization\", percentage=True)\n",
    "\n",
    "df_memcpy_utilization = df_memcpy_utilization.iloc[:len(df_sm_active) // 20]\n",
    "df_memcpy_utilization = df_memcpy_utilization[['#Time', 'jobid', 'ProducerName', 'gpu_id', 'step', 'mem_copy_utilization']]"
   ]
  },
  {
   "cell_type": "markdown",
   "id": "eeedb341-0d17-4ee7-bf39-e8a7109ad912",
   "metadata": {
    "tags": []
   },
   "source": [
    "## Correlations\n",
    "\n",
    "- This is preliminary. Calculating correlation requires memory intensive operations.\n",
    "- The idea is to investigate correlation between different metrics such as:\n",
    "1. GPU Utilization vs. Tensor Active\n",
    "2. GPU Utilization vs. SM Occupancy/SM Active\n",
    "3. GPU Utilization vs. NVLink Bandwidth Total\n",
    "4. GPU Utilization vs. Memory Metrics (fb_used, fb_free, mem_copy_utilization)\n",
    "5. Memory Metrics vs SM Occupancy/SM Active"
   ]
  },
  {
   "cell_type": "markdown",
   "id": "55e22e91-82ba-4d74-87f8-b644224aae9e",
   "metadata": {
    "jp-MarkdownHeadingCollapsed": true,
    "tags": []
   },
   "source": [
    "#### GPU Utilization and Tensor Active\n",
    "- TODO: Remove zero values?? Think about this later. I am not sure what we can learn from this."
   ]
  },
  {
   "cell_type": "code",
   "execution_count": 7,
   "id": "1468e153-579f-49ec-b760-d4dd6e5652ad",
   "metadata": {
    "tags": []
   },
   "outputs": [
    {
     "name": "stdout",
     "output_type": "stream",
     "text": [
      "Number of rows after 1st merge:  80328\n"
     ]
    }
   ],
   "source": [
    "merged_heatmap = df_tensor[[\"#Time\", \"ProducerName\", \"gpu_id\", \"jobid\", \"step\", \"tensor_active\"]].merge(df_gputil[[\"#Time\", \"ProducerName\", \"gpu_id\", \"jobid\", \"step\", \"gpu_utilization\"]], \n",
    "                                                                                                on=[\"#Time\", \"ProducerName\", \"gpu_id\", \"jobid\", \"step\"], how='inner')\n",
    "merged_heatmap = merged_heatmap.drop_duplicates()\n",
    "print(\"Number of rows after 1st merge: \", len(merged_heatmap.index))"
   ]
  },
  {
   "cell_type": "code",
   "execution_count": 8,
   "id": "b8646a14-ecdb-47cc-8e73-a390b9c0adbf",
   "metadata": {
    "tags": []
   },
   "outputs": [
    {
     "data": {
      "image/png": "[encoded data removed]",
      "text/plain": [
       "<Figure size 640x480 with 2 Axes>"
      ]
     },
     "metadata": {},
     "output_type": "display_data"
    }
   ],
   "source": [
    "x_axis_data = merged_heatmap[\"tensor_active\"] * 100\n",
    "y_axis_data = merged_heatmap[\"gpu_utilization\"]\n",
    "\n",
    "xticks = np.arange(0.0, 100.05, 5)\n",
    "yticks = np.arange(0.0, 100.05, 5)\n",
    "\n",
    "hist, xedges, yedges = np.histogram2d(x_axis_data, y_axis_data, bins=(xticks, yticks))\n",
    "hist = np.log(hist, out=np.zeros_like(hist), where=(hist!=0))\n",
    "\n",
    "extent = [xedges[0], xedges[-1], yedges[0], yedges[-1]]\n",
    "\n",
    "plt.imshow(hist, extent=extent, origin='lower', cmap='coolwarm', aspect='auto')\n",
    "plt.colorbar(label='Frequency')  # Add color bar with label\n",
    "\n",
    "# Annotate the heatmap with numbers\n",
    "# for i in range(len(yedges) - 1):\n",
    "#     for j in range(len(xedges) - 1):\n",
    "#         plt.text(xedges[j] + 0.5, yedges[i] + 0.5, int(hist[i, j]),\n",
    "#                  color='white', ha='center', va='center', fontsize=8)\n",
    "\n",
    "plt.xlabel('Tensor Active')\n",
    "plt.ylabel('GPU Utilization')\n",
    "\n",
    "plt.xticks(xedges, rotation=90)\n",
    "plt.yticks(yedges)\n",
    "\n",
    "plt.grid(True)\n",
    "plt.show()\n"
   ]
  },
  {
   "cell_type": "code",
   "execution_count": 10,
   "id": "80808887-8abd-4396-99d1-67a6c1db026f",
   "metadata": {
    "tags": []
   },
   "outputs": [
    {
     "data": {
      "text/html": [
       "<div>\n",
       "<style scoped>\n",
       "    .dataframe tbody tr th:only-of-type {\n",
       "        vertical-align: middle;\n",
       "    }\n",
       "\n",
       "    .dataframe tbody tr th {\n",
       "        vertical-align: top;\n",
       "    }\n",
       "\n",
       "    .dataframe thead th {\n",
       "        text-align: right;\n",
       "    }\n",
       "</style>\n",
       "<table border=\"1\" class=\"dataframe\">\n",
       "  <thead>\n",
       "    <tr style=\"text-align: right;\">\n",
       "      <th></th>\n",
       "      <th>gpu_utilization</th>\n",
       "      <th>tensor_active</th>\n",
       "    </tr>\n",
       "  </thead>\n",
       "  <tbody>\n",
       "    <tr>\n",
       "      <th>gpu_utilization</th>\n",
       "      <td>1.000000</td>\n",
       "      <td>0.478959</td>\n",
       "    </tr>\n",
       "    <tr>\n",
       "      <th>tensor_active</th>\n",
       "      <td>0.478959</td>\n",
       "      <td>1.000000</td>\n",
       "    </tr>\n",
       "  </tbody>\n",
       "</table>\n",
       "</div>"
      ],
      "text/plain": [
       "                 gpu_utilization  tensor_active\n",
       "gpu_utilization         1.000000       0.478959\n",
       "tensor_active           0.478959       1.000000"
      ]
     },
     "execution_count": 10,
     "metadata": {},
     "output_type": "execute_result"
    }
   ],
   "source": [
    "correlation = merged_heatmap[['gpu_utilization', 'tensor_active']].corr()\n",
    "correlation"
   ]
  },
  {
   "cell_type": "markdown",
   "id": "f106bfa4-71c9-4085-b7d5-5c26bcce5374",
   "metadata": {
    "jp-MarkdownHeadingCollapsed": true,
    "tags": []
   },
   "source": [
    "## Distribution of ratios\n",
    "- How can we answer the following question: What is the relative benefit of adding more SMs versus increasing memory bandwidth?\n",
    "- I don't think exploring the distribution of ratios is a very good technique to answer this."
   ]
  },
  {
   "cell_type": "code",
   "execution_count": 7,
   "id": "66999c27-a697-4e26-8bc2-a0b30f7abd6a",
   "metadata": {
    "tags": []
   },
   "outputs": [
    {
     "name": "stdout",
     "output_type": "stream",
     "text": [
      "Number of rows after 1st merge:  49480\n"
     ]
    }
   ],
   "source": [
    "merged_heatmap = df_sm_active[[\"#Time\", \"ProducerName\", \"gpu_id\", \"jobid\", \"step\", \"sm_active\"]].merge(df_memcpy_utilization[[\"#Time\", \"ProducerName\", \"gpu_id\", \"jobid\", \"step\", \"mem_copy_utilization\"]], \n",
    "                                                                                                on=[\"#Time\", \"ProducerName\", \"gpu_id\", \"jobid\", \"step\"], how='inner')\n",
    "merged_heatmap = merged_heatmap.drop_duplicates()\n",
    "print(\"Number of rows after 1st merge: \", len(merged_heatmap.index))"
   ]
  },
  {
   "cell_type": "code",
   "execution_count": 8,
   "id": "205f4c4f-7d2b-4482-9699-e90a108bdf5b",
   "metadata": {
    "tags": []
   },
   "outputs": [],
   "source": [
    "merged_heatmap[\"sm/memcpy\"] = merged_heatmap[\"sm_active\"] / merged_heatmap[\"mem_copy_utilization\"]\n",
    "merged_heatmap.replace([np.inf, -np.inf], np.nan, inplace=True)\n",
    "merged_heatmap.dropna(subset=[\"sm/memcpy\"], how=\"all\", inplace=True)"
   ]
  },
  {
   "cell_type": "code",
   "execution_count": 9,
   "id": "ac95cb1c-b862-4d49-836c-f6e88a6881e1",
   "metadata": {
    "tags": []
   },
   "outputs": [
    {
     "data": {
      "text/html": [
       "<div>\n",
       "<style scoped>\n",
       "    .dataframe tbody tr th:only-of-type {\n",
       "        vertical-align: middle;\n",
       "    }\n",
       "\n",
       "    .dataframe tbody tr th {\n",
       "        vertical-align: top;\n",
       "    }\n",
       "\n",
       "    .dataframe thead th {\n",
       "        text-align: right;\n",
       "    }\n",
       "</style>\n",
       "<table border=\"1\" class=\"dataframe\">\n",
       "  <thead>\n",
       "    <tr style=\"text-align: right;\">\n",
       "      <th></th>\n",
       "      <th>#Time</th>\n",
       "      <th>ProducerName</th>\n",
       "      <th>gpu_id</th>\n",
       "      <th>jobid</th>\n",
       "      <th>step</th>\n",
       "      <th>sm_active</th>\n",
       "      <th>mem_copy_utilization</th>\n",
       "      <th>sm/memcpy</th>\n",
       "    </tr>\n",
       "  </thead>\n",
       "  <tbody>\n",
       "    <tr>\n",
       "      <th>2960</th>\n",
       "      <td>1692299110</td>\n",
       "      <td>login01</td>\n",
       "      <td>0</td>\n",
       "      <td>13651012</td>\n",
       "      <td>4294967292</td>\n",
       "      <td>65.4584</td>\n",
       "      <td>50.0</td>\n",
       "      <td>1.309168</td>\n",
       "    </tr>\n",
       "    <tr>\n",
       "      <th>3104</th>\n",
       "      <td>1692311130</td>\n",
       "      <td>login01</td>\n",
       "      <td>0</td>\n",
       "      <td>13651012</td>\n",
       "      <td>4294967292</td>\n",
       "      <td>87.3821</td>\n",
       "      <td>47.0</td>\n",
       "      <td>1.859194</td>\n",
       "    </tr>\n",
       "    <tr>\n",
       "      <th>233215</th>\n",
       "      <td>1692252010</td>\n",
       "      <td>login01</td>\n",
       "      <td>0</td>\n",
       "      <td>8406623</td>\n",
       "      <td>4294967292</td>\n",
       "      <td>94.9974</td>\n",
       "      <td>64.0</td>\n",
       "      <td>1.484334</td>\n",
       "    </tr>\n",
       "    <tr>\n",
       "      <th>234440</th>\n",
       "      <td>1692252020</td>\n",
       "      <td>login01</td>\n",
       "      <td>0</td>\n",
       "      <td>8406623</td>\n",
       "      <td>4294967292</td>\n",
       "      <td>95.3670</td>\n",
       "      <td>55.0</td>\n",
       "      <td>1.733945</td>\n",
       "    </tr>\n",
       "    <tr>\n",
       "      <th>235665</th>\n",
       "      <td>1692252030</td>\n",
       "      <td>login01</td>\n",
       "      <td>0</td>\n",
       "      <td>8406623</td>\n",
       "      <td>4294967292</td>\n",
       "      <td>95.5605</td>\n",
       "      <td>45.0</td>\n",
       "      <td>2.123567</td>\n",
       "    </tr>\n",
       "    <tr>\n",
       "      <th>...</th>\n",
       "      <td>...</td>\n",
       "      <td>...</td>\n",
       "      <td>...</td>\n",
       "      <td>...</td>\n",
       "      <td>...</td>\n",
       "      <td>...</td>\n",
       "      <td>...</td>\n",
       "      <td>...</td>\n",
       "    </tr>\n",
       "    <tr>\n",
       "      <th>494320</th>\n",
       "      <td>1692186700</td>\n",
       "      <td>login04</td>\n",
       "      <td>0</td>\n",
       "      <td>10778925</td>\n",
       "      <td>4294967292</td>\n",
       "      <td>92.7566</td>\n",
       "      <td>7.0</td>\n",
       "      <td>13.250943</td>\n",
       "    </tr>\n",
       "    <tr>\n",
       "      <th>494321</th>\n",
       "      <td>1692186710</td>\n",
       "      <td>login04</td>\n",
       "      <td>0</td>\n",
       "      <td>10778925</td>\n",
       "      <td>4294967292</td>\n",
       "      <td>94.2310</td>\n",
       "      <td>3.0</td>\n",
       "      <td>31.410333</td>\n",
       "    </tr>\n",
       "    <tr>\n",
       "      <th>3422431</th>\n",
       "      <td>1692310700</td>\n",
       "      <td>login04</td>\n",
       "      <td>0</td>\n",
       "      <td>9484355</td>\n",
       "      <td>4294967291</td>\n",
       "      <td>67.6349</td>\n",
       "      <td>21.0</td>\n",
       "      <td>3.220710</td>\n",
       "    </tr>\n",
       "    <tr>\n",
       "      <th>3422435</th>\n",
       "      <td>1692310710</td>\n",
       "      <td>login04</td>\n",
       "      <td>0</td>\n",
       "      <td>9484355</td>\n",
       "      <td>4294967291</td>\n",
       "      <td>68.6248</td>\n",
       "      <td>24.0</td>\n",
       "      <td>2.859367</td>\n",
       "    </tr>\n",
       "    <tr>\n",
       "      <th>3422575</th>\n",
       "      <td>1692311100</td>\n",
       "      <td>login04</td>\n",
       "      <td>0</td>\n",
       "      <td>9484355</td>\n",
       "      <td>4294967291</td>\n",
       "      <td>62.8653</td>\n",
       "      <td>21.0</td>\n",
       "      <td>2.993586</td>\n",
       "    </tr>\n",
       "  </tbody>\n",
       "</table>\n",
       "<p>1272 rows × 8 columns</p>\n",
       "</div>"
      ],
      "text/plain": [
       "              #Time ProducerName  gpu_id     jobid        step  sm_active  \\\n",
       "2960     1692299110      login01       0  13651012  4294967292    65.4584   \n",
       "3104     1692311130      login01       0  13651012  4294967292    87.3821   \n",
       "233215   1692252010      login01       0   8406623  4294967292    94.9974   \n",
       "234440   1692252020      login01       0   8406623  4294967292    95.3670   \n",
       "235665   1692252030      login01       0   8406623  4294967292    95.5605   \n",
       "...             ...          ...     ...       ...         ...        ...   \n",
       "494320   1692186700      login04       0  10778925  4294967292    92.7566   \n",
       "494321   1692186710      login04       0  10778925  4294967292    94.2310   \n",
       "3422431  1692310700      login04       0   9484355  4294967291    67.6349   \n",
       "3422435  1692310710      login04       0   9484355  4294967291    68.6248   \n",
       "3422575  1692311100      login04       0   9484355  4294967291    62.8653   \n",
       "\n",
       "         mem_copy_utilization  sm/memcpy  \n",
       "2960                     50.0   1.309168  \n",
       "3104                     47.0   1.859194  \n",
       "233215                   64.0   1.484334  \n",
       "234440                   55.0   1.733945  \n",
       "235665                   45.0   2.123567  \n",
       "...                       ...        ...  \n",
       "494320                    7.0  13.250943  \n",
       "494321                    3.0  31.410333  \n",
       "3422431                  21.0   3.220710  \n",
       "3422435                  24.0   2.859367  \n",
       "3422575                  21.0   2.993586  \n",
       "\n",
       "[1272 rows x 8 columns]"
      ]
     },
     "execution_count": 9,
     "metadata": {},
     "output_type": "execute_result"
    }
   ],
   "source": [
    "merged_heatmap"
   ]
  },
  {
   "cell_type": "code",
   "execution_count": 13,
   "id": "28d2c76a-5444-4f1d-acd3-30446236041e",
   "metadata": {
    "tags": []
   },
   "outputs": [
    {
     "data": {
      "text/plain": [
       "Text(0.5, 1.0, 'Distribution of SM_ACTIVE/MEM_COPY_UTILIZATION after preprocessing')"
      ]
     },
     "execution_count": 13,
     "metadata": {},
     "output_type": "execute_result"
    },
    {
     "data": {
      "image/png": "[encoded data removed]",
      "text/plain": [
       "<Figure size 1600x400 with 1 Axes>"
      ]
     },
     "metadata": {},
     "output_type": "display_data"
    }
   ],
   "source": [
    "fig, axis = plt.subplots(figsize=(16, 4))\n",
    "bin_edges = np.arange(0, 105, 5)\n",
    "hist_values, bin_edges, _ = plt.hist(merged_heatmap[\"sm/memcpy\"], bins=bin_edges, color='blue', edgecolor=\"black\")\n",
    "\n",
    "axis.set_xlim(0, 100)\n",
    "plt.xticks(bin_edges)\n",
    "plt.yscale('log')\n",
    "plt.title(\"Distribution of SM_ACTIVE/MEM_COPY_UTILIZATION after preprocessing\")"
   ]
  },
  {
   "cell_type": "code",
   "execution_count": null,
   "id": "7108c4bf-1eb8-4933-807d-9f64f5112a92",
   "metadata": {},
   "outputs": [],
   "source": []
  },
  {
   "cell_type": "markdown",
   "id": "af78bd38-e5a6-45fc-a0c4-e1998abd896e",
   "metadata": {},
   "source": [
    "## Other ideas I have in mind:\n",
    "- Analyze how the metrics correlate over different times of the day. This can help identify peak usage times and potential patterns.\n",
    "- Investigate if there's a time lag between peaks in different metrics. For instance, a spike in GPU utilization might be followed by a spike in memory usage.\n",
    "- Isolate jobs identified as deep learning and see if the correlations are stronger or different compared to other jobs.\n",
    "- Compute aggregate statistics (e.g., mean, median, max) for each job and analyze correlations at the job level.\n",
    "- Use tree-based models to predict GPU utilization. These models provide feature importance scores, indicating which features (SM activity or memory bandwidth) have a greater impact on GPU utilization.\n",
    "- Perform cross-correlation analysis to see how changes in SM activity and memory bandwidth over time impact GPU utilization."
   ]
  },
  {
   "cell_type": "code",
   "execution_count": null,
   "id": "5dff57a6-45d5-4a32-b514-474a034caac9",
   "metadata": {},
   "outputs": [],
   "source": []
  }
 ],
 "metadata": {
  "kernelspec": {
   "display_name": "MyEnv",
   "language": "python",
   "name": "myenv"
  },
  "language_info": {
   "codemirror_mode": {
    "name": "ipython",
    "version": 3
   },
   "file_extension": ".py",
   "mimetype": "text/x-python",
   "name": "python",
   "nbconvert_exporter": "python",
   "pygments_lexer": "ipython3",
   "version": "3.10.9"
  }
 },
 "nbformat": 4,
 "nbformat_minor": 5
}
